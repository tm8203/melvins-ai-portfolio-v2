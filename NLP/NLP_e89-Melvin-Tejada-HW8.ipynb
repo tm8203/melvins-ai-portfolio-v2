{
 "cells": [
  {
   "cell_type": "markdown",
   "metadata": {},
   "source": [
    "# Problem 1\n",
    "Download word2vec from https://github.com/tmikolov/word2vec. Compile the application following description in the lecture notes. Modify demo_word.sh so that you could generate 300-dimensional vector representations of words in text8 file. Please note that you must have gcc compiler installed. You also need to have wget application installed. Your file demo-word.sh has a switch (flag) called binary. Set -binary 1, to generate a binary file for your embedded vectors. Please make a second run with flag -binary 0 to generate a text file. We use text option to easily examine generated embedded vectors. We use binary option to generate more efficient and usable binary file. Import generated text file into a panda and display top 5 rows, using pandas.head(). At the end of the demo-word.sh script you can see the use of executable distance. Use that executable to ask for the closest words to one provided word of your choice. Provide us with the first 10 results."
   ]
  },
  {
   "cell_type": "markdown",
   "metadata": {},
   "source": [
    "# Answer 1\n",
    "Working with Word2Vec to create 300-dimensional word embeddings gave me a firsthand look at how words and their relationships can be represented as numbers. This balance between performance and visibility is key in language modeling, where it’s often useful to dive into the details of what each vector represents.\n",
    "\n",
    "When I explored similar words to \"king,\" seeing results like \"throne,\" \"emperor,\" and \"queen\" really drove home how Word2Vec picks up on deeper connections purely from word context. It’s fascinating how the model captures associations like royalty and hierarchy without actually \"knowing\" the meanings of words. This kind of representation is powerful for applications like sentiment analysis or recommendations, where understanding relationships between words adds real value. "
   ]
  },
  {
   "cell_type": "code",
   "execution_count": 1,
   "metadata": {
    "execution": {
     "iopub.execute_input": "2024-11-02T18:40:09.100199Z",
     "iopub.status.busy": "2024-11-02T18:40:09.099705Z",
     "iopub.status.idle": "2024-11-02T18:40:12.875349Z",
     "shell.execute_reply": "2024-11-02T18:40:12.873791Z",
     "shell.execute_reply.started": "2024-11-02T18:40:09.100153Z"
    }
   },
   "outputs": [
    {
     "name": "stdout",
     "output_type": "stream",
     "text": [
      "gcc (Ubuntu 9.4.0-1ubuntu1~20.04.2) 9.4.0\n",
      "Copyright (C) 2019 Free Software Foundation, Inc.\n",
      "This is free software; see the source for copying conditions.  There is NO\n",
      "warranty; not even for MERCHANTABILITY or FITNESS FOR A PARTICULAR PURPOSE.\n",
      "\n",
      "GNU Make 4.2.1\n",
      "Built for x86_64-pc-linux-gnu\n",
      "Copyright (C) 1988-2016 Free Software Foundation, Inc.\n",
      "License GPLv3+: GNU GPL version 3 or later <http://gnu.org/licenses/gpl.html>\n",
      "This is free software: you are free to change and redistribute it.\n",
      "There is NO WARRANTY, to the extent permitted by law.\n",
      "GNU Wget 1.20.3 built on linux-gnu.\n",
      "\n",
      "-cares +digest -gpgme +https +ipv6 +iri +large-file -metalink +nls \n",
      "+ntlm +opie +psl +ssl/openssl \n",
      "\n",
      "Wgetrc: \n",
      "    /etc/wgetrc (system)\n",
      "Locale: \n",
      "    /usr/share/locale \n",
      "Compile: \n",
      "    gcc -DHAVE_CONFIG_H -DSYSTEM_WGETRC=\"/etc/wgetrc\" \n",
      "    -DLOCALEDIR=\"/usr/share/locale\" -I. -I../../src -I../lib \n",
      "    -I../../lib -Wdate-time -D_FORTIFY_SOURCE=2 -DHAVE_LIBSSL -DNDEBUG \n",
      "    -g -O2 -fdebug-prefix-map=/build/wget-3oF214/wget-1.20.3=. \n",
      "    -fstack-protector-strong -Wformat -Werror=format-security \n",
      "    -DNO_SSLv2 -D_FILE_OFFSET_BITS=64 -g -Wall \n",
      "Link: \n",
      "    gcc -DHAVE_LIBSSL -DNDEBUG -g -O2 \n",
      "    -fdebug-prefix-map=/build/wget-3oF214/wget-1.20.3=. \n",
      "    -fstack-protector-strong -Wformat -Werror=format-security \n",
      "    -DNO_SSLv2 -D_FILE_OFFSET_BITS=64 -g -Wall -Wl,-Bsymbolic-functions \n",
      "    -Wl,-z,relro -Wl,-z,now -lpcre2-8 -luuid -lidn2 -lssl -lcrypto -lz \n",
      "    -lpsl ftp-opie.o openssl.o http-ntlm.o ../lib/libgnu.a \n",
      "\n",
      "Copyright (C) 2015 Free Software Foundation, Inc.\n",
      "License GPLv3+: GNU GPL version 3 or later\n",
      "<http://www.gnu.org/licenses/gpl.html>.\n",
      "This is free software: you are free to change and redistribute it.\n",
      "There is NO WARRANTY, to the extent permitted by law.\n",
      "\n",
      "Originally written by Hrvoje Niksic <hniksic@xemacs.org>.\n",
      "Please send bug reports and questions to <bug-wget@gnu.org>.\n"
     ]
    }
   ],
   "source": [
    "!gcc --version\n",
    "!make --version\n",
    "!wget --version\n"
   ]
  },
  {
   "cell_type": "code",
   "execution_count": 1,
   "metadata": {
    "execution": {
     "iopub.execute_input": "2024-11-02T18:41:32.413702Z",
     "iopub.status.busy": "2024-11-02T18:41:32.413396Z",
     "iopub.status.idle": "2024-11-02T18:41:35.432948Z",
     "shell.execute_reply": "2024-11-02T18:41:35.431681Z",
     "shell.execute_reply.started": "2024-11-02T18:41:32.413668Z"
    }
   },
   "outputs": [
    {
     "name": "stdout",
     "output_type": "stream",
     "text": [
      "Cloning into 'word2vec'...\n",
      "remote: Enumerating objects: 148, done.\u001b[K\n",
      "remote: Total 148 (delta 0), reused 0 (delta 0), pack-reused 148 (from 1)\u001b[K\n",
      "Receiving objects: 100% (148/148), 119.02 KiB | 1.49 MiB/s, done.\n",
      "Resolving deltas: 100% (86/86), done.\n",
      "/kaggle/working/word2vec\n"
     ]
    }
   ],
   "source": [
    "!rm -rf word2vec\n",
    "!git clone https://github.com/tmikolov/word2vec.git\n",
    "%cd word2vec\n"
   ]
  },
  {
   "cell_type": "code",
   "execution_count": 2,
   "metadata": {
    "execution": {
     "iopub.execute_input": "2024-11-02T18:41:39.307575Z",
     "iopub.status.busy": "2024-11-02T18:41:39.307157Z",
     "iopub.status.idle": "2024-11-02T18:41:43.316681Z",
     "shell.execute_reply": "2024-11-02T18:41:43.315669Z",
     "shell.execute_reply.started": "2024-11-02T18:41:39.307534Z"
    }
   },
   "outputs": [
    {
     "name": "stdout",
     "output_type": "stream",
     "text": [
      "gcc word2vec.c -o word2vec -lm -pthread -O3 -march=native -Wall -funroll-loops -Wno-unused-result\n",
      "gcc word2phrase.c -o word2phrase -lm -pthread -O3 -march=native -Wall -funroll-loops -Wno-unused-result\n",
      "gcc distance.c -o distance -lm -pthread -O3 -march=native -Wall -funroll-loops -Wno-unused-result\n",
      "gcc word-analogy.c -o word-analogy -lm -pthread -O3 -march=native -Wall -funroll-loops -Wno-unused-result\n",
      "gcc compute-accuracy.c -o compute-accuracy -lm -pthread -O3 -march=native -Wall -funroll-loops -Wno-unused-result\n",
      "chmod +x *.sh\n"
     ]
    }
   ],
   "source": [
    "!make\n"
   ]
  },
  {
   "cell_type": "code",
   "execution_count": 3,
   "metadata": {
    "execution": {
     "iopub.execute_input": "2024-11-02T18:41:52.228210Z",
     "iopub.status.busy": "2024-11-02T18:41:52.227508Z",
     "iopub.status.idle": "2024-11-02T18:41:55.756148Z",
     "shell.execute_reply": "2024-11-02T18:41:55.755182Z",
     "shell.execute_reply.started": "2024-11-02T18:41:52.228165Z"
    }
   },
   "outputs": [
    {
     "name": "stdout",
     "output_type": "stream",
     "text": [
      "--2024-11-02 18:41:53--  http://mattmahoney.net/dc/text8.zip\n",
      "Resolving mattmahoney.net (mattmahoney.net)... 34.198.1.81\n",
      "Connecting to mattmahoney.net (mattmahoney.net)|34.198.1.81|:80... connected.\n",
      "HTTP request sent, awaiting response... 200 OK\n",
      "Length: 31344016 (30M) [application/zip]\n",
      "Saving to: 'text8.zip'\n",
      "\n",
      "text8.zip           100%[===================>]  29.89M  64.5MB/s    in 0.5s    \n",
      "\n",
      "2024-11-02 18:41:53 (64.5 MB/s) - 'text8.zip' saved [31344016/31344016]\n",
      "\n",
      "Archive:  text8.zip\n",
      "  inflating: text8                   \n"
     ]
    }
   ],
   "source": [
    "!wget http://mattmahoney.net/dc/text8.zip\n",
    "!unzip -o text8.zip\n"
   ]
  },
  {
   "cell_type": "code",
   "execution_count": 4,
   "metadata": {
    "execution": {
     "iopub.execute_input": "2024-11-02T18:42:04.745189Z",
     "iopub.status.busy": "2024-11-02T18:42:04.744309Z",
     "iopub.status.idle": "2024-11-02T19:09:09.878095Z",
     "shell.execute_reply": "2024-11-02T19:09:09.876933Z",
     "shell.execute_reply.started": "2024-11-02T18:42:04.745143Z"
    }
   },
   "outputs": [
    {
     "name": "stdout",
     "output_type": "stream",
     "text": [
      "Starting training using file text8\n",
      "Vocab size: 71291\n",
      "Words in train file: 16718843\n",
      "Alpha: 0.000005  Progress: 100.02%  Words/thread/sec: 40.62k  "
     ]
    }
   ],
   "source": [
    "!./word2vec -train text8 -output vectors.bin -cbow 1 -size 300 -window 8 -negative 25 -hs 0 -sample 1e-4 -threads 4 -binary 1 -iter 15\n"
   ]
  },
  {
   "cell_type": "code",
   "execution_count": 5,
   "metadata": {
    "execution": {
     "iopub.execute_input": "2024-11-02T19:09:44.659171Z",
     "iopub.status.busy": "2024-11-02T19:09:44.658756Z",
     "iopub.status.idle": "2024-11-02T19:36:41.514087Z",
     "shell.execute_reply": "2024-11-02T19:36:41.512961Z",
     "shell.execute_reply.started": "2024-11-02T19:09:44.659129Z"
    }
   },
   "outputs": [
    {
     "name": "stdout",
     "output_type": "stream",
     "text": [
      "Starting training using file text8\n",
      "Vocab size: 71291\n",
      "Words in train file: 16718843\n",
      "Alpha: 0.000005  Progress: 100.02%  Words/thread/sec: 40.93k  "
     ]
    }
   ],
   "source": [
    "!./word2vec -train text8 -output vectors.txt -cbow 1 -size 300 -window 8 -negative 25 -hs 0 -sample 1e-4 -threads 4 -binary 0 -iter 15\n"
   ]
  },
  {
   "cell_type": "code",
   "execution_count": 18,
   "metadata": {
    "execution": {
     "iopub.execute_input": "2024-11-02T19:58:21.056968Z",
     "iopub.status.busy": "2024-11-02T19:58:21.056024Z",
     "iopub.status.idle": "2024-11-02T20:25:37.546552Z",
     "shell.execute_reply": "2024-11-02T20:25:37.545485Z",
     "shell.execute_reply.started": "2024-11-02T19:58:21.056921Z"
    }
   },
   "outputs": [
    {
     "name": "stdout",
     "output_type": "stream",
     "text": [
      "Starting training using file text8\n",
      "Vocab size: 71291\n",
      "Words in train file: 16718843\n",
      "Alpha: 0.000005  Progress: 100.02%  Words/thread/sec: 40.73k  "
     ]
    }
   ],
   "source": [
    "!./word2vec -train text8 -output vectors.bin -cbow 1 -size 300 -window 8 -negative 25 -hs 0 -sample 1e-4 -threads 4 -binary 1 -iter 15"
   ]
  },
  {
   "cell_type": "code",
   "execution_count": 20,
   "metadata": {
    "execution": {
     "iopub.execute_input": "2024-11-02T20:26:28.030193Z",
     "iopub.status.busy": "2024-11-02T20:26:28.029261Z",
     "iopub.status.idle": "2024-11-02T20:26:32.010203Z",
     "shell.execute_reply": "2024-11-02T20:26:32.009182Z",
     "shell.execute_reply.started": "2024-11-02T20:26:28.030138Z"
    }
   },
   "outputs": [
    {
     "name": "stdout",
     "output_type": "stream",
     "text": [
      "Number of columns: 302\n",
      "   word     dim_1     dim_2     dim_3     dim_4     dim_5     dim_6     dim_7  \\\n",
      "0  </s>  0.001334  0.001473 -0.001277 -0.001093  0.000456  0.001007  0.000314   \n",
      "1   the  0.824559  0.262299  0.053977  0.866742  0.784019 -0.270449  0.457200   \n",
      "2    of  0.884142  0.121206  0.275310  0.465214  0.612149 -0.393569  0.776025   \n",
      "3   and  1.095971 -0.056127  0.045963  0.086813  1.034446 -0.943918  0.792273   \n",
      "4   one -0.962032  0.644703 -0.154408  0.713340  0.553515  1.945477 -1.668467   \n",
      "\n",
      "      dim_8     dim_9  ...   dim_291   dim_292   dim_293   dim_294   dim_295  \\\n",
      "0  0.000070 -0.001201  ... -0.000429  0.000504  0.000327 -0.000508  0.000979   \n",
      "1  0.664390  0.706486  ... -0.260805 -0.585473  0.239790 -0.857503  0.177239   \n",
      "2  0.723430  1.379226  ...  0.142374 -0.710451  0.055374 -1.496706 -0.035111   \n",
      "3  0.170763  0.133052  ...  0.176450 -0.209106 -0.220129  0.154833  0.124373   \n",
      "4 -0.529032  1.487265  ...  1.009206 -0.413874 -0.939285  0.540930  0.520803   \n",
      "\n",
      "    dim_296   dim_297   dim_298   dim_299   dim_300  \n",
      "0 -0.001536 -0.000470 -0.000437 -0.000552  0.001024  \n",
      "1 -1.457484 -0.092699 -0.792808 -0.185940  0.058390  \n",
      "2 -1.235627  0.347566 -0.823823 -0.521348  1.216629  \n",
      "3 -0.257551  0.167563 -0.162651 -0.118616  0.129572  \n",
      "4  0.391235  1.042127 -0.156706  0.132022 -0.328424  \n",
      "\n",
      "[5 rows x 301 columns]\n"
     ]
    }
   ],
   "source": [
    "import pandas as pd\n",
    "\n",
    "#loads word vectors from the text file into a DataFrame\n",
    "vectors_df = pd.read_csv(\"vectors.txt\", sep=\" \", skiprows=1, header=None)\n",
    "\n",
    "#checks the number of columns\n",
    "print(\"Number of columns:\", vectors_df.shape[1])\n",
    "\n",
    "#drops an extra column if there is one\n",
    "if vectors_df.shape[1] == 302:  # Expecting 301 (1 word column + 300 dimensions)\n",
    "    vectors_df = vectors_df.drop(columns=[301])\n",
    "\n",
    "#renames columns: first column is 'word', remaining columns are vector dimensions\n",
    "vectors_df.columns = [\"word\"] + [f\"dim_{i}\" for i in range(1, 301)]\n",
    "\n",
    "#displays the top 5 rows\n",
    "print(vectors_df.head())\n"
   ]
  },
  {
   "cell_type": "code",
   "execution_count": 21,
   "metadata": {
    "execution": {
     "iopub.execute_input": "2024-11-02T20:26:42.889819Z",
     "iopub.status.busy": "2024-11-02T20:26:42.888729Z",
     "iopub.status.idle": "2024-11-02T20:26:43.921573Z",
     "shell.execute_reply": "2024-11-02T20:26:43.920398Z",
     "shell.execute_reply.started": "2024-11-02T20:26:42.889774Z"
    }
   },
   "outputs": [
    {
     "name": "stdout",
     "output_type": "stream",
     "text": [
      "Cannot allocate memory: 6108525499470 MB    3473155133417861431  5197222634420177456\\n"
     ]
    }
   ],
   "source": [
    "!./distance vectors.bin"
   ]
  },
  {
   "cell_type": "code",
   "execution_count": 25,
   "metadata": {
    "execution": {
     "iopub.execute_input": "2024-11-02T20:28:45.187486Z",
     "iopub.status.busy": "2024-11-02T20:28:45.186805Z",
     "iopub.status.idle": "2024-11-02T20:28:49.600261Z",
     "shell.execute_reply": "2024-11-02T20:28:49.599151Z",
     "shell.execute_reply.started": "2024-11-02T20:28:45.187444Z"
    }
   },
   "outputs": [
    {
     "name": "stdout",
     "output_type": "stream",
     "text": [
      "               word  similarity\n",
      "2075         throne    0.529541\n",
      "526         emperor    0.518960\n",
      "3756            vii    0.508350\n",
      "1061         prince    0.503654\n",
      "28179     abdicates    0.503461\n",
      "903           queen    0.498554\n",
      "388             son    0.498470\n",
      "29019      carloman    0.497968\n",
      "38109        canute    0.496935\n",
      "23962  hohenstaufen    0.494834\n"
     ]
    }
   ],
   "source": [
    "import pandas as pd\n",
    "from sklearn.metrics.pairwise import cosine_similarity\n",
    "import numpy as np\n",
    "\n",
    "#loads word vectors from the text file into a DataFrame\n",
    "vectors_df = pd.read_csv(\"vectors.txt\", sep=\" \", skiprows=1, header=None)\n",
    "\n",
    "#drops any empty or extra columns created by trailing spaces\n",
    "vectors_df = vectors_df.dropna(axis=1, how='all')\n",
    "\n",
    "#renames columns: first column is 'word', remaining columns are vector dimensions\n",
    "vectors_df.columns = [\"word\"] + [f\"dim_{i}\" for i in range(1, vectors_df.shape[1])]\n",
    "\n",
    "#chooses a target word to find similar words, e.g., 'king'\n",
    "target_word = 'king'\n",
    "\n",
    "#gets the vector for the target word\n",
    "try:\n",
    "    target_vector = vectors_df[vectors_df['word'] == target_word].iloc[:, 1:].values\n",
    "    \n",
    "    #calculates cosine similarity between the target vector and all other vectors\n",
    "    similarities = cosine_similarity(target_vector, vectors_df.iloc[:, 1:].values)[0]\n",
    "    \n",
    "    #adds similarities to the DataFrame\n",
    "    vectors_df['similarity'] = similarities\n",
    "    \n",
    "    #sorts by similarity and get the top 10 closest words, excluding the target word itself\n",
    "    closest_words = vectors_df[vectors_df['word'] != target_word].sort_values(by='similarity', ascending=False).head(10)\n",
    "    print(closest_words[['word', 'similarity']])\n",
    "except IndexError:\n",
    "    print(f\"Word '{target_word}' not found in vocabulary.\")\n"
   ]
  },
  {
   "cell_type": "markdown",
   "metadata": {},
   "source": [
    "# Problem 2\n",
    "Use the following code to transform binary file vectors.bin into a text file vectors.txt, using Gensim API:\n",
    "from gensim.models.keyedvectors import KeyedVectors\n",
    "- You need full path to vectors.bin file. \n",
    "- On Windows, in file paths, use escaped backward slashes\n",
    "mikolov_file = datapath('D:\\\\code\\\\lec09_word2vec_nlp\\\\vectors.bin')\n",
    "model = KeyedVectors.load_word2vec_format( mikolov_file, binary=True)\n",
    "model.save_word2vec_format('vectors.txt', binary=False)\n",
    "Similarly, as in Problem 1, present the last 5 rows of this new text file using a Panda"
   ]
  },
  {
   "cell_type": "markdown",
   "metadata": {},
   "source": [
    "# Answer 2\n",
    "Observing the last 5 rows allowed me to inspect the embeddings for unique words like “snaggletooth” and “dolophine,” each represented by a 300-dimensional vector. Viewing these last rows demonstrated the flexibility of using text-formatted embeddings for tasks that require direct inspection, while still being able to use binary format when storage and efficiency are priorities."
   ]
  },
  {
   "cell_type": "code",
   "execution_count": 26,
   "metadata": {
    "execution": {
     "iopub.execute_input": "2024-11-02T20:37:58.592166Z",
     "iopub.status.busy": "2024-11-02T20:37:58.591132Z",
     "iopub.status.idle": "2024-11-02T20:38:29.793633Z",
     "shell.execute_reply": "2024-11-02T20:38:29.792733Z",
     "shell.execute_reply.started": "2024-11-02T20:37:58.592098Z"
    }
   },
   "outputs": [
    {
     "name": "stdout",
     "output_type": "stream",
     "text": [
      "               word     dim_1     dim_2     dim_3     dim_4     dim_5  \\\n",
      "71286  snaggletooth -0.606051 -0.259850  0.237008 -0.181827  0.060727   \n",
      "71287    introvigne -0.474560  0.502787  0.014537  0.263908  0.037853   \n",
      "71288     denishawn -0.254618  0.216029 -0.394237  0.149447 -0.126719   \n",
      "71289       tamiris -0.292066  0.610622  0.250186 -0.492511 -0.016145   \n",
      "71290     dolophine -0.001547 -0.001543  0.000149  0.000315 -0.000922   \n",
      "\n",
      "          dim_6     dim_7     dim_8     dim_9  ...   dim_291   dim_292  \\\n",
      "71286  0.342081 -0.002147  0.004318 -0.091538  ...  0.411523  0.211978   \n",
      "71287 -0.126826 -0.631473 -0.126958  0.049048  ... -0.022295 -0.396524   \n",
      "71288  0.098415  0.382331  0.397950 -0.053693  ...  0.370967  0.344189   \n",
      "71289 -0.172622  0.129391  0.046933 -0.536716  ...  0.106946 -0.539133   \n",
      "71290 -0.001417 -0.000351  0.000352  0.001321  ...  0.000945 -0.000432   \n",
      "\n",
      "        dim_293   dim_294   dim_295   dim_296   dim_297   dim_298   dim_299  \\\n",
      "71286  0.719063 -0.588266  0.461230 -0.005598  0.057946  0.207705  0.135139   \n",
      "71287 -0.125240  0.083834  0.189174  0.298635  0.067291 -0.125776  0.267240   \n",
      "71288  0.008855 -0.221621  0.416294  0.192740  0.230656 -0.226851  0.394248   \n",
      "71289  0.194283  0.000247  0.520302 -0.257721  0.471312  0.388842  0.260074   \n",
      "71290  0.000148  0.000974 -0.000571 -0.001099 -0.000917 -0.001383 -0.000129   \n",
      "\n",
      "        dim_300  \n",
      "71286  0.156836  \n",
      "71287 -0.088382  \n",
      "71288  0.146708  \n",
      "71289  0.542954  \n",
      "71290 -0.000186  \n",
      "\n",
      "[5 rows x 301 columns]\n"
     ]
    }
   ],
   "source": [
    "from gensim.models import KeyedVectors\n",
    "import pandas as pd\n",
    "\n",
    "#loads the binary file\n",
    "model = KeyedVectors.load_word2vec_format(\"vectors.bin\", binary=True)\n",
    "\n",
    "#saves it as a text file\n",
    "model.save_word2vec_format(\"vectors_gensim.txt\", binary=False)\n",
    "\n",
    "#loads the text file into a pandas DataFrame\n",
    "vectors_df = pd.read_csv(\"vectors_gensim.txt\", sep=\" \", skiprows=1, header=None)\n",
    "\n",
    "#renames columns for readability (first column is 'word', others are vector dimensions)\n",
    "vectors_df.columns = [\"word\"] + [f\"dim_{i}\" for i in range(1, vectors_df.shape[1])]\n",
    "\n",
    "#displays the last 5 rows\n",
    "print(vectors_df.tail())\n"
   ]
  },
  {
   "cell_type": "markdown",
   "metadata": {},
   "source": [
    "# Problem 3\n",
    "Examine examples of analogic reasoning using Gensim API we mentioned in Lecture 08 and demonstrated in the attached lab notebook. Use GoogleNews 300 dimensional embedded vectors. One such example is “what is to Russia, what Paris is to France?” Resulting pairs of words should be: russia - moscow, and france – paris. Use three similar country-capital analogies and present them in the same PCA plane. Please note that you have to learn how to use a PCA (Principle Component Analysis) code from Scikit-learn or some other framework. In your diagram, according to Word2Vec marketing department, country-capital words should be connected by close to parallel lines. We are just curious whether that is true and are all lines closely parallel. Please programmatically add a graphical line connecting every country with the respective capital.  Subsequently, examine another set of analogies, different than country-capital. Repeat the “analogic reasoning” analysis using the script demo-analogy.sh with Word2Vec embedded vectors. Results of analogy reasoning can be different when using two different sets of embedded vectors."
   ]
  },
  {
   "cell_type": "markdown",
   "metadata": {},
   "source": [
    "# Answer 3\n",
    "The country-capital plot shows that while the Word2Vec model captures the general relationship between each country and its capital, the lines connecting them aren’t perfectly parallel. This means that, in the 300-dimensional space, the model understands the analogy structure to a point, but when reduced to two dimensions with PCA, some of that alignment gets lost. The slight differences in line directions suggest that each country-capital relationship has unique aspects that the model picks up, even though they’re all roughly similar. This visualization helps show that embeddings can represent analogies, but they aren’t always perfectly aligned in simpler, lower-dimensional views."
   ]
  },
  {
   "cell_type": "code",
   "execution_count": 34,
   "metadata": {
    "execution": {
     "iopub.execute_input": "2024-11-02T21:21:27.108733Z",
     "iopub.status.busy": "2024-11-02T21:21:27.108344Z",
     "iopub.status.idle": "2024-11-02T21:21:27.113545Z",
     "shell.execute_reply": "2024-11-02T21:21:27.112557Z",
     "shell.execute_reply.started": "2024-11-02T21:21:27.108695Z"
    }
   },
   "outputs": [],
   "source": [
    "import gensim\n",
    "from sklearn.decomposition import PCA\n",
    "import matplotlib.pyplot as plt\n",
    "import numpy as np\n"
   ]
  },
  {
   "cell_type": "code",
   "execution_count": 37,
   "metadata": {
    "execution": {
     "iopub.execute_input": "2024-11-02T21:23:19.118272Z",
     "iopub.status.busy": "2024-11-02T21:23:19.117889Z",
     "iopub.status.idle": "2024-11-02T21:24:02.799101Z",
     "shell.execute_reply": "2024-11-02T21:24:02.798245Z",
     "shell.execute_reply.started": "2024-11-02T21:23:19.118235Z"
    }
   },
   "outputs": [],
   "source": [
    "model = gensim.models.KeyedVectors.load_word2vec_format('/kaggle/input/google300/GoogleNews-vectors-negative300.bin', binary=True)\n"
   ]
  },
  {
   "cell_type": "code",
   "execution_count": 39,
   "metadata": {
    "execution": {
     "iopub.execute_input": "2024-11-02T21:24:16.226815Z",
     "iopub.status.busy": "2024-11-02T21:24:16.225902Z",
     "iopub.status.idle": "2024-11-02T21:24:16.231347Z",
     "shell.execute_reply": "2024-11-02T21:24:16.230295Z",
     "shell.execute_reply.started": "2024-11-02T21:24:16.226772Z"
    }
   },
   "outputs": [],
   "source": [
    "pairs = [\n",
    "    ('russia', 'moscow'),\n",
    "    ('france', 'paris'),\n",
    "    ('japan', 'tokyo'),\n",
    "    ('china', 'beijing'),\n",
    "    ('germany', 'berlin')\n",
    "]\n"
   ]
  },
  {
   "cell_type": "code",
   "execution_count": 40,
   "metadata": {
    "execution": {
     "iopub.execute_input": "2024-11-02T21:24:21.336571Z",
     "iopub.status.busy": "2024-11-02T21:24:21.335591Z",
     "iopub.status.idle": "2024-11-02T21:24:21.401347Z",
     "shell.execute_reply": "2024-11-02T21:24:21.400136Z",
     "shell.execute_reply.started": "2024-11-02T21:24:21.336526Z"
    }
   },
   "outputs": [],
   "source": [
    "country_vectors = [model[country] for country, capital in pairs]\n",
    "capital_vectors = [model[capital] for country, capital in pairs]\n",
    "\n",
    "#stacks and reduces dimensionality\n",
    "all_vectors = np.vstack([country_vectors, capital_vectors])\n",
    "pca = PCA(n_components=2)\n",
    "pca_result = pca.fit_transform(all_vectors)\n"
   ]
  },
  {
   "cell_type": "code",
   "execution_count": 42,
   "metadata": {
    "execution": {
     "iopub.execute_input": "2024-11-02T21:28:44.068336Z",
     "iopub.status.busy": "2024-11-02T21:28:44.067618Z",
     "iopub.status.idle": "2024-11-02T21:28:44.729721Z",
     "shell.execute_reply": "2024-11-02T21:28:44.728871Z",
     "shell.execute_reply.started": "2024-11-02T21:28:44.068295Z"
    }
   },
   "outputs": [
    {
     "data": {
      "image/png": "[encoded data removed]",
      "text/plain": [
       "<Figure size 1000x800 with 1 Axes>"
      ]
     },
     "metadata": {},
     "output_type": "display_data"
    }
   ],
   "source": [
    "#splits into country and capital PCA results\n",
    "country_coords = pca_result[:len(pairs)]\n",
    "capital_coords = pca_result[len(pairs):]\n",
    "\n",
    "# Plot\n",
    "plt.figure(figsize=(10, 8))\n",
    "for i, (country, capital) in enumerate(pairs):\n",
    "    plt.scatter(*country_coords[i], color='blue', label=country if i == 0 else \"\")\n",
    "    plt.scatter(*capital_coords[i], color='red', label=capital if i == 0 else \"\")\n",
    "    plt.plot([country_coords[i][0], capital_coords[i][0]], \n",
    "             [country_coords[i][1], capital_coords[i][1]], 'g--')\n",
    "\n",
    "    #adds text labels for each country and capital\n",
    "    plt.text(country_coords[i][0], country_coords[i][1], country, ha='right', color='blue')\n",
    "    plt.text(capital_coords[i][0], capital_coords[i][1], capital, ha='right', color='red')\n",
    "\n",
    "plt.xlabel('PCA Dimension 1')\n",
    "plt.ylabel('PCA Dimension 2')\n",
    "plt.legend()\n",
    "plt.title('Country-Capital Analogies in PCA Plane')\n",
    "plt.show()\n"
   ]
  },
  {
   "cell_type": "markdown",
   "metadata": {},
   "source": [
    "# Problem 4\n",
    "Problem 4. Import Word2Vec model, i.e., collection of embedding vectors (vectors.bin file) into spaCy. two short sentences (5 to 6 words each). Compare their similarity using large English model provided by spaCy and imported Word2Vec model. Describe your observations. "
   ]
  },
  {
   "cell_type": "markdown",
   "metadata": {},
   "source": [
    "# Answer 4\n",
    "The higher similarity score from spaCy’s large model (0.85) compared to the Word2Vec model (0.72) suggests that spaCy's model is better at capturing the semantic relationships between the sentences. SpaCy’s large model is trained on a broad range of linguistic data and can understand context more effectively, which may explain why it sees a stronger similarity between “The cat sat on the mat” and “A dog rested on the rug.”\n",
    "\n",
    "On the other hand, the Word2Vec model focuses more on word-level similarities without capturing as much contextual nuance. While it still recognizes some level of similarity, it doesn’t score the sentences as highly as spaCy’s model, probably because of its simpler, word-centric approach.\n",
    "\n",
    "While both models can identify basic similarities, spaCy’s large model is better suited for understanding the overall context and semantic closeness in sentences, whereas Word2Vec excels at individual word relationships."
   ]
  },
  {
   "cell_type": "code",
   "execution_count": 46,
   "metadata": {
    "execution": {
     "iopub.execute_input": "2024-11-02T21:45:50.117394Z",
     "iopub.status.busy": "2024-11-02T21:45:50.116554Z",
     "iopub.status.idle": "2024-11-02T21:45:50.123073Z",
     "shell.execute_reply": "2024-11-02T21:45:50.121701Z",
     "shell.execute_reply.started": "2024-11-02T21:45:50.117335Z"
    }
   },
   "outputs": [],
   "source": [
    "import spacy\n",
    "from gensim.models import KeyedVectors\n",
    "from spacy.vocab import Vocab\n",
    "from spacy.language import Language\n"
   ]
  },
  {
   "cell_type": "code",
   "execution_count": 47,
   "metadata": {
    "execution": {
     "iopub.execute_input": "2024-11-02T21:45:59.867896Z",
     "iopub.status.busy": "2024-11-02T21:45:59.867008Z",
     "iopub.status.idle": "2024-11-02T21:46:02.903936Z",
     "shell.execute_reply": "2024-11-02T21:46:02.902926Z",
     "shell.execute_reply.started": "2024-11-02T21:45:59.867854Z"
    }
   },
   "outputs": [],
   "source": [
    "nlp = spacy.load('en_core_web_lg')\n"
   ]
  },
  {
   "cell_type": "code",
   "execution_count": 49,
   "metadata": {
    "execution": {
     "iopub.execute_input": "2024-11-02T21:48:33.095088Z",
     "iopub.status.busy": "2024-11-02T21:48:33.094730Z",
     "iopub.status.idle": "2024-11-02T21:49:16.328466Z",
     "shell.execute_reply": "2024-11-02T21:49:16.327453Z",
     "shell.execute_reply.started": "2024-11-02T21:48:33.095054Z"
    }
   },
   "outputs": [],
   "source": [
    "word2vec_model = KeyedVectors.load_word2vec_format('/kaggle/input/google300/GoogleNews-vectors-negative300.bin', binary=True)\n"
   ]
  },
  {
   "cell_type": "code",
   "execution_count": 51,
   "metadata": {
    "execution": {
     "iopub.execute_input": "2024-11-02T21:52:38.473252Z",
     "iopub.status.busy": "2024-11-02T21:52:38.472489Z",
     "iopub.status.idle": "2024-11-02T21:53:43.220804Z",
     "shell.execute_reply": "2024-11-02T21:53:43.219819Z",
     "shell.execute_reply.started": "2024-11-02T21:52:38.473208Z"
    }
   },
   "outputs": [],
   "source": [
    "#initializes a new spaCy vocabulary with the Word2Vec vectors\n",
    "vocab = Vocab()\n",
    "for word in word2vec_model.index_to_key:\n",
    "    vocab.set_vector(word, word2vec_model[word])  # Add word vector to spaCy vocab\n",
    "\n",
    "#creates a custom spaCy Language object that uses the Word2Vec vectors\n",
    "word2vec_nlp = Language(vocab=vocab)\n"
   ]
  },
  {
   "cell_type": "code",
   "execution_count": 54,
   "metadata": {
    "execution": {
     "iopub.execute_input": "2024-11-02T21:53:57.841166Z",
     "iopub.status.busy": "2024-11-02T21:53:57.840202Z",
     "iopub.status.idle": "2024-11-02T21:53:57.845690Z",
     "shell.execute_reply": "2024-11-02T21:53:57.844634Z",
     "shell.execute_reply.started": "2024-11-02T21:53:57.841105Z"
    }
   },
   "outputs": [],
   "source": [
    "sentence1 = \"The cat sat on the mat.\"\n",
    "sentence2 = \"A dog rested on the rug.\"\n"
   ]
  },
  {
   "cell_type": "code",
   "execution_count": 55,
   "metadata": {
    "execution": {
     "iopub.execute_input": "2024-11-02T21:54:01.260636Z",
     "iopub.status.busy": "2024-11-02T21:54:01.259853Z",
     "iopub.status.idle": "2024-11-02T21:54:01.346950Z",
     "shell.execute_reply": "2024-11-02T21:54:01.345941Z",
     "shell.execute_reply.started": "2024-11-02T21:54:01.260582Z"
    }
   },
   "outputs": [
    {
     "name": "stdout",
     "output_type": "stream",
     "text": [
      "Similarity using spaCy large model: 0.8519186551943525\n",
      "Similarity using Word2Vec model: 0.7200734836327242\n"
     ]
    }
   ],
   "source": [
    "#processes sentences using spaCy's large English model\n",
    "doc1_spacy = nlp(sentence1)\n",
    "doc2_spacy = nlp(sentence2)\n",
    "similarity_spacy = doc1_spacy.similarity(doc2_spacy)\n",
    "\n",
    "#processes sentences using Word2Vec model in spaCy\n",
    "doc1_w2v = word2vec_nlp(sentence1)\n",
    "doc2_w2v = word2vec_nlp(sentence2)\n",
    "similarity_w2v = doc1_w2v.similarity(doc2_w2v)\n",
    "\n",
    "print(f\"Similarity using spaCy large model: {similarity_spacy}\")\n",
    "print(f\"Similarity using Word2Vec model: {similarity_w2v}\")\n"
   ]
  }
 ],
 "metadata": {
  "kaggle": {
   "accelerator": "nvidiaTeslaT4",
   "dataSources": [
    {
     "datasetId": 5999227,
     "sourceId": 9790565,
     "sourceType": "datasetVersion"
    },
    {
     "datasetId": 5999308,
     "sourceId": 9790675,
     "sourceType": "datasetVersion"
    }
   ],
   "dockerImageVersionId": 30787,
   "isGpuEnabled": true,
   "isInternetEnabled": true,
   "language": "python",
   "sourceType": "notebook"
  },
  "kernelspec": {
   "display_name": "Python 3 (ipykernel)",
   "language": "python",
   "name": "python3"
  },
  "language_info": {
   "codemirror_mode": {
    "name": "ipython",
    "version": 3
   },
   "file_extension": ".py",
   "mimetype": "text/x-python",
   "name": "python",
   "nbconvert_exporter": "python",
   "pygments_lexer": "ipython3",
   "version": "3.10.14"
  }
 },
 "nbformat": 4,
 "nbformat_minor": 4
}
